{
 "cells": [
  {
   "cell_type": "markdown",
   "id": "eb371eee",
   "metadata": {},
   "source": [
    "🔥 Welcome to Day 7: Transfer Learning with Pretrained CNN Models 🔥\n",
    "\n",
    "🎯 Goals Today:\n",
    "\n",
    "1. Load model pretrained (misal: ResNet18)\n",
    "2. Fine-tune model untuk dataset kecil (contoh: CIFAR-10)\n",
    "3. Train & evaluate performance"
   ]
  },
  {
   "cell_type": "markdown",
   "id": "7329f9cb",
   "metadata": {},
   "source": [
    "🧠 1. Load Pretrained Model: ResNet18"
   ]
  },
  {
   "cell_type": "code",
   "execution_count": null,
   "id": "f0d0f66f",
   "metadata": {},
   "outputs": [
    {
     "name": "stderr",
     "output_type": "stream",
     "text": [
      "c:\\Python313\\Lib\\site-packages\\torchvision\\models\\_utils.py:208: UserWarning: The parameter 'pretrained' is deprecated since 0.13 and may be removed in the future, please use 'weights' instead.\n",
      "  warnings.warn(\n",
      "c:\\Python313\\Lib\\site-packages\\torchvision\\models\\_utils.py:223: UserWarning: Arguments other than a weight enum or `None` for 'weights' are deprecated since 0.13 and may be removed in the future. The current behavior is equivalent to passing `weights=ResNet18_Weights.IMAGENET1K_V1`. You can also use `weights=ResNet18_Weights.DEFAULT` to get the most up-to-date weights.\n",
      "  warnings.warn(msg)\n",
      "Downloading: \"https://download.pytorch.org/models/resnet18-f37072fd.pth\" to C:\\Users\\DELL/.cache\\torch\\hub\\checkpoints\\resnet18-f37072fd.pth\n",
      "100%|██████████| 44.7M/44.7M [00:20<00:00, 2.23MB/s]\n"
     ]
    }
   ],
   "source": [
    "import torch\n",
    "import torchvision.models as models\n",
    "\n",
    "# load pretained ResNet18\n",
    "resnet18 = models.resnet18(pretrained=True)\n",
    "\n",
    "# freeze all layer\n",
    "for param in resnet18.parameters():\n",
    "    param.requires_grad = False\n",
    "\n",
    "\n",
    "# change output layer for 10 classes(cifar-10)\n",
    "import torch.nn as nn\n",
    "resnet18.fc = nn.Linear(resnet18.fc.in_features, 10)"
   ]
  },
  {
   "cell_type": "markdown",
   "id": "50843145",
   "metadata": {},
   "source": [
    "📦 2. Load CIFAR-10 Dataset"
   ]
  },
  {
   "cell_type": "code",
   "execution_count": 8,
   "id": "20939c36",
   "metadata": {},
   "outputs": [
    {
     "name": "stderr",
     "output_type": "stream",
     "text": [
      "100%|██████████| 170M/170M [04:15<00:00, 666kB/s]  \n"
     ]
    }
   ],
   "source": [
    "import torchvision.transforms as transforms\n",
    "import torchvision.datasets as datasets\n",
    "from torch.utils.data import DataLoader\n",
    "\n",
    "# transform (resize to 224x244 for ResNet input)\n",
    "transform = transforms.Compose([\n",
    "    transforms.Resize((224, 224)),\n",
    "    transforms.ToTensor(),\n",
    "    transforms.Normalize((0.5), (0.5))\n",
    "])\n",
    "\n",
    "# Load CIFAR-10\n",
    "train_data = datasets.CIFAR10(root='./data', train=True, download=True, transform=transform)\n",
    "test_data = datasets.CIFAR10(root='./data', train=False, download=True, transform=transform)\n",
    "\n",
    "train_loader = DataLoader(train_data, batch_size=64, shuffle=True)\n",
    "test_loader = DataLoader(test_data, batch_size=1000)"
   ]
  },
  {
   "cell_type": "markdown",
   "id": "17a720c2",
   "metadata": {},
   "source": [
    "🏋️‍♂️ 3. Train Output Layer Only"
   ]
  },
  {
   "cell_type": "code",
   "execution_count": null,
   "id": "6dbed85a",
   "metadata": {},
   "outputs": [],
   "source": [
    "import torch.optim as optim\n",
    "\n",
    "device = torch.device(\"cuda\" if torch.cuda.is_available() else \"cpu\")\n",
    "resnet18 = resnet18.to(device)\n",
    "\n",
    "criterion = nn.CrossEntropyLoss()\n",
    "optimizer = optim.Adam(resnet18.fc.parameters(), lr=0.001)\n",
    "\n",
    "#training loop(only 3 epoch for fast)\n",
    "for epoch in range(3):\n",
    "    resnet18.train()\n",
    "    running_loss = 0.0\n",
    "    for inputs, labels in train_loader:\n",
    "        inputs, labels = inputs.to(device), labels.to(device)\n",
    "\n",
    "        outputs = resnet18(inputs)\n",
    "        loss = criterion(outputs, labels)\n",
    "\n",
    "        optimizer.zero_grad()\n",
    "        loss.backward()\n",
    "        optimizer.step()\n",
    "        running_loss += loss.item()\n",
    "\n",
    "print(f\"Epoch {epoch+1}, loss: {running_loss/len(train_loader):.4f}\")"
   ]
  },
  {
   "cell_type": "markdown",
   "id": "626a1dd9",
   "metadata": {},
   "source": [
    "✅ 4. Evaluate Accuracy"
   ]
  },
  {
   "cell_type": "code",
   "execution_count": null,
   "id": "3ebef1c5",
   "metadata": {},
   "outputs": [],
   "source": [
    "resnet18.eval()\n",
    "correct = 0\n",
    "total = 0\n",
    "\n",
    "with torch.no_grad():\n",
    "    for images, labels in test_loader:\n",
    "        images, labels = images.to(device), labels.to(device)\n",
    "        outputs = resnet18(images)\n",
    "        _, predicted = torch.max(outputs, 1)\n",
    "        total += labels.size(0)\n",
    "        correct += (predicted == labels).sum().item()\n",
    "\n",
    "print(f\"Test Accuracy: {100 * correct / total:.2f}%\")"
   ]
  },
  {
   "cell_type": "markdown",
   "id": "8996fc19",
   "metadata": {},
   "source": [
    "📝 Exercises Day 7:\n",
    "\n",
    "1. Use ResNet34 Instead of ResNet18\n",
    "2. Train and Evaluate Model on CIFAR-10\n",
    "3. (Challenge): Fine-Tune the Whole Model"
   ]
  },
  {
   "cell_type": "markdown",
   "id": "dfbd7db7",
   "metadata": {},
   "source": [
    "🧪 Exercise 1: Use ResNet34 Instead of ResNet18\n",
    "\n",
    "✅ Step-by-step:"
   ]
  },
  {
   "cell_type": "code",
   "execution_count": null,
   "id": "fbe7a64b",
   "metadata": {},
   "outputs": [],
   "source": [
    "# 1. Load pretrained ResNet34\n",
    "resnet34 = models.resnet34(pretrained=True)\n",
    "\n",
    "# 2. Freeze all layers (optional, only train the final layer)\n",
    "for param in resnet34.parameters():\n",
    "    param.requires_grad = False\n",
    "\n",
    "# 3. Modify the output layer for 10 classes (e.g. CIFAR-10)\n",
    "resnet34.fc = nn.Linear(resnet34.fc.in_features, 10)\n",
    "\n",
    "# 4. Move model to device\n",
    "device = torch.device(\"cuda\" if torch.cuda.is_available() else \"cpu\")\n",
    "resnet34 = resnet34.to(device)\n",
    "\n",
    "# 5. Define loss and optimizer\n",
    "criterion = nn.CrossEntropyLoss()\n",
    "optimizer = optim.Adam(resnet34.fc.parameters(), lr=0.001)\n"
   ]
  },
  {
   "cell_type": "markdown",
   "id": "c281f261",
   "metadata": {},
   "source": [
    "🧪 Exercise 2: Train and Evaluate Model on CIFAR-10"
   ]
  },
  {
   "cell_type": "code",
   "execution_count": null,
   "id": "4e29e3d0",
   "metadata": {},
   "outputs": [],
   "source": [
    "# Training loop\n",
    "for epoch in range(3):\n",
    "    resnet34.train()\n",
    "    running_loss = 0.0\n",
    "    for inputs, labels in train_loader:\n",
    "        inputs, labels = inputs.to(device), labels.to(device)\n",
    "\n",
    "        outputs = resnet34(inputs)\n",
    "        loss = criterion(outputs, labels)\n",
    "\n",
    "        optimizer.zero_grad()\n",
    "        loss.backward()\n",
    "        optimizer.step()\n",
    "\n",
    "        running_loss += loss.item()\n",
    "\n",
    "    print(f\"Epoch {epoch+1}, Loss: {running_loss / len(train_loader):.4f}\")"
   ]
  },
  {
   "cell_type": "markdown",
   "id": "efce7121",
   "metadata": {},
   "source": [
    "✅ Evaluate:"
   ]
  },
  {
   "cell_type": "code",
   "execution_count": null,
   "id": "99e698b1",
   "metadata": {},
   "outputs": [],
   "source": [
    "resnet34.eval()\n",
    "correct = 0\n",
    "total = 0\n",
    "with torch.no_grad():\n",
    "    for images, labels in test_loader:\n",
    "        images, labels = images.to(device), labels.to(device)\n",
    "        outputs = resnet34(images)\n",
    "        _, predicted = torch.max(outputs, 1)\n",
    "        total += labels.size(0)\n",
    "        correct += (predicted == labels).sum().item()\n",
    "\n",
    "print(f\"✅ Test Accuracy with ResNet34: {100 * correct / total:.2f}%\")"
   ]
  },
  {
   "cell_type": "markdown",
   "id": "d652d69b",
   "metadata": {},
   "source": [
    "🧪 Exercise 3 (Challenge): Fine-Tune the Whole Model\n",
    "\n",
    "Unfreeze all layers and do full backpropagation:"
   ]
  },
  {
   "cell_type": "code",
   "execution_count": null,
   "id": "27e92a57",
   "metadata": {},
   "outputs": [],
   "source": [
    "# Unfreeze all layers for fine-tuning\n",
    "for param in resnet34.parameters():\n",
    "    param.requires_grad = True\n",
    "\n",
    "# Redefine optimizer to update all parameters\n",
    "optimizer = optim.Adam(resnet34.parameters(), lr=1e-4)\n",
    "\n",
    "# Then re-run the training loop above (use fewer epochs if slow)"
   ]
  }
 ],
 "metadata": {
  "kernelspec": {
   "display_name": "Python 3",
   "language": "python",
   "name": "python3"
  },
  "language_info": {
   "codemirror_mode": {
    "name": "ipython",
    "version": 3
   },
   "file_extension": ".py",
   "mimetype": "text/x-python",
   "name": "python",
   "nbconvert_exporter": "python",
   "pygments_lexer": "ipython3",
   "version": "3.13.1"
  }
 },
 "nbformat": 4,
 "nbformat_minor": 5
}
