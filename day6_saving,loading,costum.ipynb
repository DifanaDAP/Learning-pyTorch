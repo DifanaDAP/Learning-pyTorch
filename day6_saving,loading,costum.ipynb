{
 "cells": [
  {
   "cell_type": "markdown",
   "id": "6f7b87c9",
   "metadata": {},
   "source": [
    "Welcome to Day 6: Saving, Loading, and Custom Predictions 🧠💾🔍\n",
    "today we learn how to:\n",
    "\n",
    "✅ Save dan load model\n",
    "\n",
    "✅ Used trained models to predict new images\n",
    "\n",
    "✅ (Optional) create your own images and see prediction results"
   ]
  },
  {
   "cell_type": "markdown",
   "id": "1c4314c6",
   "metadata": {},
   "source": [
    "📦 1. Save the Trained Model"
   ]
  },
  {
   "cell_type": "code",
   "execution_count": null,
   "id": "0ceed5e4",
   "metadata": {},
   "outputs": [],
   "source": [
    "# save model\n",
    "torch.save(model.state_dict(), 'mnist_cnn.pth')\n",
    "print(\"model saved to mnist_cnn.pth\")"
   ]
  },
  {
   "cell_type": "markdown",
   "id": "a64781c9",
   "metadata": {},
   "source": [
    "It only stores the weights and biases. To use it again, you need the model definition as well."
   ]
  },
  {
   "cell_type": "markdown",
   "id": "f79d9a42",
   "metadata": {},
   "source": [
    "♻️ 2. Load the Model"
   ]
  },
  {
   "cell_type": "code",
   "execution_count": null,
   "id": "88284e75",
   "metadata": {},
   "outputs": [],
   "source": [
    "# recreate teh model structure\n",
    "model_loaded = CNNModelV2()\n",
    "model_loaded.load_state_dict(torch.load('mnist_ccn.pth'))\n",
    "model_loaded.eval()  # important!\n",
    "print(\"Model loaded and ready!\")"
   ]
  },
  {
   "cell_type": "markdown",
   "id": "244eca0f",
   "metadata": {},
   "source": [
    "🔍 3. Make Predictions on New Data (from test set)"
   ]
  },
  {
   "cell_type": "code",
   "execution_count": null,
   "id": "1a46c609",
   "metadata": {},
   "outputs": [],
   "source": [
    "import matplotlib.pyplot as plt\n",
    "\n",
    "# take one image from test loader\n",
    "example = next(iter(test_loader))\n",
    "images, labels = example\n",
    "image = images[0]\n",
    "\n",
    "# Visualize\n",
    "plt.imshow(image.squeeze(), cmap='gray')\n",
    "plt.title('Input Image')\n",
    "plt.axis('off')\n",
    "plt.show()\n",
    "\n",
    "# predict\n",
    "with torch.no_grad():\n",
    "    output = model_loaded(images.unsqueeze(0))  # add batch dimension\n",
    "    pred = torch.argmac(output, 1).item()\n",
    "\n",
    "print(f\"model prediction : {pred}\")"
   ]
  },
  {
   "cell_type": "markdown",
   "id": "42392574",
   "metadata": {},
   "source": [
    "📸 4. (Bonus) Load Your Own Image and Predict"
   ]
  },
  {
   "cell_type": "markdown",
   "id": "7b7e8c38",
   "metadata": {},
   "source": [
    "If you have your own number drawing (handwritten digit, 28x28 format), you can predict like this:"
   ]
  },
  {
   "cell_type": "code",
   "execution_count": null,
   "id": "7cde462f",
   "metadata": {},
   "outputs": [],
   "source": [
    "from PIL import Image\n",
    "import torchvision.transforms as transforms\n",
    "\n",
    "# Load custom image\n",
    "img = Image.open('my_digit.png').convert('L')  # grayscale\n",
    "transform = transforms.Compose([\n",
    "    transforms.Resize((28, 28)),\n",
    "    transforms.ToTensor(),\n",
    "    transforms.Normalize((0.5,), (0.5,))\n",
    "])\n",
    "img_tensor = transform(img).unsqueeze(0)  # Add batch dimension\n",
    "\n",
    "# Predict\n",
    "with torch.no_grad():\n",
    "    output = model_loaded(img_tensor)\n",
    "    pred = torch.argmax(output, 1).item()\n",
    "\n",
    "print(f\"🖼️ Prediction on your image: {pred}\")\n"
   ]
  },
  {
   "cell_type": "markdown",
   "id": "eb6f879c",
   "metadata": {},
   "source": [
    "🎯 Exercises Day 6:\n",
    "\n",
    "1. save model CNN to file\n",
    "2. Load model from file and perform prediction for one image\n",
    "3. (Optional) try prediction from the picture you drew yourself"
   ]
  },
  {
   "cell_type": "markdown",
   "id": "edf89839",
   "metadata": {},
   "source": [
    "✅ 1. save model to file"
   ]
  },
  {
   "cell_type": "code",
   "execution_count": null,
   "id": "c6411a76",
   "metadata": {},
   "outputs": [],
   "source": [
    "# Simpan bobot model ke file\n",
    "torch.save(model.state_dict(), 'mnist_cnn_day6.pth')\n",
    "print(\"✅ Model disimpan sebagai mnist_cnn_day6.pth\")"
   ]
  },
  {
   "cell_type": "markdown",
   "id": "768f4505",
   "metadata": {},
   "source": [
    "✅ 2. Load Model from File & Prediction 1 test image"
   ]
  },
  {
   "cell_type": "code",
   "execution_count": null,
   "id": "5432a950",
   "metadata": {},
   "outputs": [],
   "source": [
    "# Load model\n",
    "model_loaded = CNNModelV2()  # pastikan sama dengan struktur model sebelumnya\n",
    "model_loaded.load_state_dict(torch.load('mnist_cnn_day6.pth'))\n",
    "model_loaded.eval()\n",
    "\n",
    "# Ambil satu gambar dari test set\n",
    "examples = enumerate(test_loader)\n",
    "batch_idx, (example_data, example_targets) = next(examples)\n",
    "\n",
    "# Ambil gambar pertama\n",
    "image = example_data[0]\n",
    "label = example_targets[0]\n",
    "\n",
    "# Prediksi\n",
    "with torch.no_grad():\n",
    "    output = model_loaded(image.unsqueeze(0))  # tambahkan batch dimensi\n",
    "    prediction = torch.argmax(output, 1).item()\n",
    "\n",
    "# Tampilkan hasil\n",
    "import matplotlib.pyplot as plt\n",
    "\n",
    "plt.imshow(image.squeeze(), cmap='gray')\n",
    "plt.title(f\"Predicted: {prediction}, Actual: {label.item()}\")\n",
    "plt.axis('off')\n",
    "plt.show()\n"
   ]
  },
  {
   "cell_type": "markdown",
   "id": "8c52d3b9",
   "metadata": {},
   "source": [
    "🧪 3. (Optional): try your own image( 28x28 pixel format)\n",
    "\n",
    "if you hace a png/jpg image for your number writing(you can use paint or canva), you  can predict it like this:"
   ]
  },
  {
   "cell_type": "code",
   "execution_count": null,
   "id": "c004a4bf",
   "metadata": {},
   "outputs": [],
   "source": [
    "from PIL import Image\n",
    "import torchvision.transforms as transforms\n",
    "\n",
    "# Load gambar kamu (pastikan ukuran 28x28 atau akan diskalakan)\n",
    "img = Image.open('my_digit.png').convert('L')\n",
    "\n",
    "transform = transforms.Compose([\n",
    "    transforms.Resize((28, 28)),\n",
    "    transforms.ToTensor(),\n",
    "    transforms.Normalize((0.5,), (0.5,))\n",
    "])\n",
    "\n",
    "img_tensor = transform(img).unsqueeze(0)\n",
    "\n",
    "# Prediksi\n",
    "with torch.no_grad():\n",
    "    output = model_loaded(img_tensor)\n",
    "    pred = torch.argmax(output, 1).item()\n",
    "\n",
    "print(f\"📸 Prediksi dari gambar kamu: {pred}\")\n"
   ]
  }
 ],
 "metadata": {
  "kernelspec": {
   "display_name": "Python 3",
   "language": "python",
   "name": "python3"
  },
  "language_info": {
   "name": "python",
   "version": "3.13.1"
  }
 },
 "nbformat": 4,
 "nbformat_minor": 5
}
