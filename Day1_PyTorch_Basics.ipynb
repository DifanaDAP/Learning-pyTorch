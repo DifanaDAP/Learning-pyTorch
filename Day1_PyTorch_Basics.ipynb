{
 "cells": [
  {
   "cell_type": "code",
   "execution_count": 2,
   "id": "5b04229f",
   "metadata": {},
   "outputs": [],
   "source": [
    "# Import library pyTorch\n",
    "import torch"
   ]
  },
  {
   "cell_type": "code",
   "execution_count": 2,
   "id": "c27b9793",
   "metadata": {},
   "outputs": [
    {
     "name": "stdout",
     "output_type": "stream",
     "text": [
      "1D Tensor: tensor([1, 2, 3])\n",
      "2D Tensor:\n",
      " tensor([[1, 2],\n",
      "        [3, 4]])\n"
     ]
    }
   ],
   "source": [
    "#1. create 1D and 2D tensors\n",
    "a = torch.tensor([1, 2, 3])\n",
    "print(\"1D Tensor:\", a)\n",
    "\n",
    "b = torch.tensor([[1,2], [3, 4]])\n",
    "print(\"2D Tensor:\\n\", b)"
   ]
  },
  {
   "cell_type": "code",
   "execution_count": 3,
   "id": "c7f6ca69",
   "metadata": {},
   "outputs": [
    {
     "name": "stdout",
     "output_type": "stream",
     "text": [
      "Random 3x3 Tensor:\n",
      " tensor([[0.0033, 0.1753, 0.2726],\n",
      "        [0.3168, 0.2640, 0.8158],\n",
      "        [0.1986, 0.5142, 0.6487]])\n"
     ]
    }
   ],
   "source": [
    "# 2. Create random 3x3 tensor\n",
    "c = torch.rand(3, 3)\n",
    "print(\"Random 3x3 Tensor:\\n\", c)"
   ]
  },
  {
   "cell_type": "code",
   "execution_count": 4,
   "id": "a6eef925",
   "metadata": {},
   "outputs": [
    {
     "name": "stdout",
     "output_type": "stream",
     "text": [
      "x + y:  tensor([5., 7., 9.])\n",
      "x * y (element-wise): tensor([ 4., 10., 18.])\n",
      "Dot produxt: tensor(32.)\n"
     ]
    }
   ],
   "source": [
    "# 3. Basic Tensor Operations\n",
    "x = torch.tensor([1.0, 2.0, 3.0])\n",
    "y = torch.tensor([4.0, 5.0, 6.0])\n",
    "\n",
    "print(\"x + y: \", x + y)\n",
    "print(\"x * y (element-wise):\", x * y)\n",
    "print(\"Dot produxt:\", torch.dot(x, y))"
   ]
  },
  {
   "cell_type": "code",
   "execution_count": 5,
   "id": "b0838678",
   "metadata": {},
   "outputs": [
    {
     "name": "stdout",
     "output_type": "stream",
     "text": [
      "Original Shape: torch.Size([4, 4])\n",
      "Reshape to 2 x 8:\n",
      " tensor([[9.4911e-01, 8.3503e-01, 9.1258e-01, 8.1193e-01, 4.3683e-01, 4.8787e-01,\n",
      "         3.3631e-01, 6.7781e-01],\n",
      "        [3.6454e-01, 6.4761e-01, 2.3902e-01, 6.0285e-01, 5.0060e-01, 5.0946e-01,\n",
      "         7.7975e-04, 7.3317e-01]])\n"
     ]
    }
   ],
   "source": [
    "# 4. Reshape a tensor\n",
    "z = torch.rand(4, 4)\n",
    "print(\"Original Shape:\", z.shape)\n",
    "print(\"Reshape to 2 x 8:\\n\", z.view(2, 8))"
   ]
  },
  {
   "cell_type": "code",
   "execution_count": 6,
   "id": "169279ea",
   "metadata": {},
   "outputs": [
    {
     "name": "stdout",
     "output_type": "stream",
     "text": [
      "first row: tensor([1, 2, 3])\n",
      "Elemen at (1, 2) tensor(6)\n",
      "All row, column 2: tensor([2, 5])\n"
     ]
    }
   ],
   "source": [
    "# 5. Indexing and Slicing\n",
    "mat = torch.tensor([[1, 2, 3], [4, 5, 6]])\n",
    "print(\"first row:\", mat[0])\n",
    "print(\"Elemen at (1, 2)\", mat[1, 2])\n",
    "print(\"All row, column 2:\", mat[:, 1])"
   ]
  },
  {
   "cell_type": "code",
   "execution_count": 7,
   "id": "2b80349b",
   "metadata": {},
   "outputs": [
    {
     "name": "stdout",
     "output_type": "stream",
     "text": [
      "using device: cpu\n",
      "Tensor on device: cpu\n"
     ]
    }
   ],
   "source": [
    "# move tensor to GPU (if available)\n",
    "device = torch.device(\"cuda\" if torch.cuda.is_available() else \"cpu\")\n",
    "print(\"using device:\", device)\n",
    "\n",
    "x_gpu = torch.rand(3, 3).to(device)\n",
    "print(\"Tensor on device:\", x_gpu.device)"
   ]
  },
  {
   "cell_type": "code",
   "execution_count": null,
   "id": "38098a07",
   "metadata": {},
   "outputs": [],
   "source": [
    "# TODO:\n",
    "# 1. Create a 2x3 tensor with random values\n",
    "# 2. Create another 2x3 tensor and perform addition and multiplication\n",
    "# 3. Reshape the tensor to 3x2\n",
    "# 4. Move the tensor to GPU (if available) and print the device\n",
    "\n",
    "# Write your code below..."
   ]
  },
  {
   "cell_type": "code",
   "execution_count": 8,
   "id": "577adaea",
   "metadata": {},
   "outputs": [
    {
     "name": "stdout",
     "output_type": "stream",
     "text": [
      "Random 2x3 Tensor:\n",
      " tensor([[0.0109, 0.0946, 0.4189],\n",
      "        [0.7569, 0.7186, 0.6143]])\n"
     ]
    }
   ],
   "source": [
    "# 1. create a 2 x 3 tensor with random values\n",
    "d = torch.rand(2, 3)\n",
    "print(\"Random 2x3 Tensor:\\n\", d)"
   ]
  },
  {
   "cell_type": "code",
   "execution_count": 9,
   "id": "26c18b31",
   "metadata": {},
   "outputs": [
    {
     "name": "stdout",
     "output_type": "stream",
     "text": [
      "Tensor A:\n",
      " tensor([[0.0109, 0.0946, 0.4189],\n",
      "        [0.7569, 0.7186, 0.6143]])\n",
      "Tensor B:\n",
      " tensor([[0.8267, 0.9674, 0.7794],\n",
      "        [0.5159, 0.3192, 0.6642]])\n",
      "Added:\n",
      " tensor([[0.8376, 1.0620, 1.1983],\n",
      "        [1.2728, 1.0378, 1.2785]])\n",
      "Multiplied:\n",
      " tensor([[0.0090, 0.0915, 0.3265],\n",
      "        [0.3905, 0.2294, 0.4080]])\n"
     ]
    }
   ],
   "source": [
    "# 2. Create another 2 x 3 tensor and perform addition and multiplication\n",
    "e = torch.rand(2, 3)\n",
    "\n",
    "# Element-wise addition\n",
    "added = d + e\n",
    "\n",
    "# element-wise multiplication\n",
    "multuplied = d * e\n",
    "\n",
    "print(\"Tensor A:\\n\", d)\n",
    "print(\"Tensor B:\\n\", e)\n",
    "print(\"Added:\\n\", added)\n",
    "print(\"Multiplied:\\n\", multuplied)"
   ]
  },
  {
   "cell_type": "code",
   "execution_count": 10,
   "id": "cc2bcd08",
   "metadata": {},
   "outputs": [
    {
     "name": "stdout",
     "output_type": "stream",
     "text": [
      "Reshaped Tersor A:\n",
      " tensor([[0.0109, 0.0946],\n",
      "        [0.4189, 0.7569],\n",
      "        [0.7186, 0.6143]])\n"
     ]
    }
   ],
   "source": [
    "# 3. Reshape tensor to 3x2\n",
    "reshaped = d.view(3,2)\n",
    "print(\"Reshaped Tersor A:\\n\", reshaped)"
   ]
  },
  {
   "cell_type": "code",
   "execution_count": 11,
   "id": "3fc3bf2b",
   "metadata": {},
   "outputs": [
    {
     "name": "stdout",
     "output_type": "stream",
     "text": [
      "Tensor A is on: cpu\n"
     ]
    }
   ],
   "source": [
    "# 4. Move tensor to GPU(if available)\n",
    "device = torch.device(\"cuda\" if torch.cuda.is_available() else \"cpu\")\n",
    "\n",
    "tensor_gpu = d.to(device)\n",
    "print(\"Tensor A is on:\", tensor_gpu.device)"
   ]
  }
 ],
 "metadata": {
  "kernelspec": {
   "display_name": "Python 3",
   "language": "python",
   "name": "python3"
  },
  "language_info": {
   "codemirror_mode": {
    "name": "ipython",
    "version": 3
   },
   "file_extension": ".py",
   "mimetype": "text/x-python",
   "name": "python",
   "nbconvert_exporter": "python",
   "pygments_lexer": "ipython3",
   "version": "3.13.1"
  }
 },
 "nbformat": 4,
 "nbformat_minor": 5
}
