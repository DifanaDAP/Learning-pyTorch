{
 "cells": [
  {
   "cell_type": "markdown",
   "id": "9123386e",
   "metadata": {},
   "source": [
    "📚 1. What is Autograd?\n",
    "\n",
    "autograd is a PyTorch feature to automatically calculate the derivative (gradient). Very important when training neural networks."
   ]
  },
  {
   "cell_type": "markdown",
   "id": "bcf99fb7",
   "metadata": {},
   "source": [
    "🧪 2. Autograd Basic Example"
   ]
  },
  {
   "cell_type": "code",
   "execution_count": 2,
   "id": "a716d63d",
   "metadata": {},
   "outputs": [
    {
     "name": "stdout",
     "output_type": "stream",
     "text": [
      "Gradien of y with respect to x:  tensor(7.)\n"
     ]
    }
   ],
   "source": [
    "import torch\n",
    "\n",
    "# Create a tensor with gradient traking\n",
    "x = torch.tensor(2.0, requires_grad=True)\n",
    "\n",
    "# Define a simple function : Y = x^2 + 3x + 1\n",
    "y = x**2 + 3*x + 1\n",
    "\n",
    "# Backpropagate\n",
    "y.backward()\n",
    "\n",
    "# Print gradient dy/dx\n",
    "print(\"Gradien of y with respect to x: \", x.grad)"
   ]
  },
  {
   "cell_type": "markdown",
   "id": "8036450d",
   "metadata": {},
   "source": [
    "💡 Penjelasan:\n",
    "\n",
    "1. (Autogradrequires_grad=True) makes PyTorch keep track of all operations on the tensor.\n",
    "2. (.backward() )calculates the derivative.\n",
    "3. The gradient is stored in (x.grad)."
   ]
  },
  {
   "cell_type": "markdown",
   "id": "37fa5abf",
   "metadata": {},
   "source": [
    "⚠️ 3. Non-Tracking Mode (no_grad)\n",
    "\n",
    "Sometimes we don't need gradients (for example during model evaluation). We can disable autograd using (torch.no_grad():)"
   ]
  },
  {
   "cell_type": "code",
   "execution_count": 3,
   "id": "28fb33c6",
   "metadata": {},
   "outputs": [
    {
     "name": "stdout",
     "output_type": "stream",
     "text": [
      "y (no grad): tensor(4.)\n"
     ]
    }
   ],
   "source": [
    "with torch.no_grad():\n",
    "    y = x * 2\n",
    "    print(\"y (no grad):\", y)"
   ]
  },
  {
   "cell_type": "markdown",
   "id": "b365158f",
   "metadata": {},
   "source": [
    "🧮 4. More Complex Gradient Calculations"
   ]
  },
  {
   "cell_type": "code",
   "execution_count": 5,
   "id": "edcdca05",
   "metadata": {},
   "outputs": [
    {
     "name": "stdout",
     "output_type": "stream",
     "text": [
      "Gradien x[0]: tensor(4.)\n",
      "Gradien x[1]: tensor(6.)\n"
     ]
    }
   ],
   "source": [
    "x = torch.tensor([2.0, 3.0], requires_grad=True)\n",
    "\n",
    "# Function : z = x1^2 = x2^2\n",
    "z = x[0]**2 + x[1]**2\n",
    "z.backward()\n",
    "\n",
    "print(\"Gradien x[0]:\", x.grad[0])  # should be 2*x[0]\n",
    "print(\"Gradien x[1]:\", x.grad[1])  # should be 3*x[1]^2"
   ]
  },
  {
   "cell_type": "markdown",
   "id": "8d4c2d36",
   "metadata": {},
   "source": [
    "✅ Exercise Day 2:\n",
    "\n",
    "1. Create a function y=3x3+2x2+xy=3x3+2x2+x, calculate the derivative with respect to x = 4.0.\n",
    "2. Use torch.no_grad() to calculate the function result without gradient tracking."
   ]
  },
  {
   "cell_type": "markdown",
   "id": "09f00688",
   "metadata": {},
   "source": [
    "✅ 1. Autograd for Function y=3x^3 + 2x^2 + x"
   ]
  },
  {
   "cell_type": "code",
   "execution_count": 9,
   "id": "27ed21c7",
   "metadata": {},
   "outputs": [
    {
     "name": "stdout",
     "output_type": "stream",
     "text": [
      "x= 4.0\n",
      "y= 228.0\n",
      "dx/dy= 161.0\n"
     ]
    }
   ],
   "source": [
    "# Define x as a tensor with grad enabled\n",
    "x = torch.tensor(4.0, requires_grad=True)\n",
    "\n",
    "# Define the function: y = 3x^2 + 2x^2 + x\n",
    "y = 3 * x**3 + 2 * x**2 + x\n",
    "\n",
    "# compute gradient\n",
    "y.backward()\n",
    "\n",
    "# print the gradient dy/dx\n",
    "print(\"x=\", x.item())\n",
    "print(\"y=\", y.item())\n",
    "print(\"dx/dy=\", x.grad.item())"
   ]
  },
  {
   "attachments": {
    "image.png": {
     "image/png": "[encoded data removed]"
    }
   },
   "cell_type": "markdown",
   "id": "9051e84b",
   "metadata": {},
   "source": [
    "💡 Turunan fungsi secara manual:\n",
    "\n",
    "![image.png](attachment:image.png)\n",
    "\n",
    "Coba cek apakah hasilnya sesuai ya."
   ]
  },
  {
   "cell_type": "markdown",
   "id": "1482e677",
   "metadata": {},
   "source": [
    "✅ 2. Autograd for FunctionCalculate Function Value Without Gradient Tracking"
   ]
  },
  {
   "cell_type": "code",
   "execution_count": 10,
   "id": "6e3c5b30",
   "metadata": {},
   "outputs": [
    {
     "name": "stdout",
     "output_type": "stream",
     "text": [
      "y (No grad)= 228.0\n"
     ]
    }
   ],
   "source": [
    "# Disable gradient traking\n",
    "with torch.no_grad():\n",
    "    x_val = torch.tensor(4.0)\n",
    "    y_val = 3 * x_val**3 + 2 * x_val**2 + x_val\n",
    "    print(\"y (No grad)=\", y_val.item())"
   ]
  }
 ],
 "metadata": {
  "kernelspec": {
   "display_name": "Python 3",
   "language": "python",
   "name": "python3"
  },
  "language_info": {
   "codemirror_mode": {
    "name": "ipython",
    "version": 3
   },
   "file_extension": ".py",
   "mimetype": "text/x-python",
   "name": "python",
   "nbconvert_exporter": "python",
   "pygments_lexer": "ipython3",
   "version": "3.13.1"
  }
 },
 "nbformat": 4,
 "nbformat_minor": 5
}
