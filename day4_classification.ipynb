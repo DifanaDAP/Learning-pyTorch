{
 "cells": [
  {
   "cell_type": "markdown",
   "id": "30affe69",
   "metadata": {},
   "source": [
    "🔥 [Day 4] Neural Network for Classification\n",
    "🎯 Goal Today:\n",
    "\n",
    "1. Load a real dataset\n",
    "2. Preprocess the data\n",
    "3. Build a classification model\n",
    "4. Train & evaluate the model"
   ]
  },
  {
   "cell_type": "markdown",
   "id": "7ad9047e",
   "metadata": {},
   "source": [
    "🌸 1. Load the Iris Dataset (3 classes)"
   ]
  },
  {
   "cell_type": "code",
   "execution_count": 1,
   "id": "72f907d6",
   "metadata": {},
   "outputs": [],
   "source": [
    "from sklearn.datasets import load_iris\n",
    "from sklearn.model_selection import train_test_split\n",
    "from sklearn.preprocessing import StandardScaler\n",
    "import torch\n",
    "from torch.utils.data import TensorDataset, DataLoader\n",
    "\n",
    "# Load and prepare data\n",
    "iris = load_iris()\n",
    "X = iris['data']\n",
    "y = iris['target']\n",
    "\n",
    "# Normalize features\n",
    "scaler = StandardScaler()\n",
    "X_scaled = scaler.fit_transform(X)\n",
    "\n",
    "# Train-test split\n",
    "X_train, X_test, y_train, y_test = train_test_split(X_scaled, y, test_size=0.2, random_state=42)\n",
    "\n",
    "# Convert to PyTorch tensors\n",
    "X_train_tensor = torch.tensor(X_train, dtype=torch.float32)\n",
    "y_train_tensor = torch.tensor(y_train, dtype=torch.long)\n",
    "\n",
    "X_test_tensor = torch.tensor(X_test, dtype=torch.float32)\n",
    "y_test_tensor = torch.tensor(y_test, dtype=torch.long)\n",
    "\n",
    "# DataLoader\n",
    "train_dataset = TensorDataset(X_train_tensor, y_train_tensor)\n",
    "train_loader = DataLoader(train_dataset, batch_size=16, shuffle=True)\n"
   ]
  },
  {
   "cell_type": "markdown",
   "id": "6283f4e3",
   "metadata": {},
   "source": [
    "🧠 2. Define a Classification Model"
   ]
  },
  {
   "cell_type": "code",
   "execution_count": 2,
   "id": "5dca90f5",
   "metadata": {},
   "outputs": [],
   "source": [
    "import torch.nn as nn\n",
    "\n",
    "class IrisClassifier(nn.Module):\n",
    "    def __init__(self):\n",
    "        super(IrisClassifier, self).__init__()\n",
    "        self.fc1 = nn.Linear(4, 16)\n",
    "        self.relu = nn.ReLU()\n",
    "        self.fc2 = nn.Linear(16, 3)  # 3 output classes\n",
    "\n",
    "    def forward(self, x):\n",
    "        x = self.fc1(x)\n",
    "        x = self.relu(x)\n",
    "        x = self.fc2(x)\n",
    "        return x  # logits"
   ]
  },
  {
   "cell_type": "markdown",
   "id": "c67a5d5b",
   "metadata": {},
   "source": [
    "🔁 3. Training the Model"
   ]
  },
  {
   "cell_type": "code",
   "execution_count": 5,
   "id": "0949a1fb",
   "metadata": {},
   "outputs": [
    {
     "name": "stdout",
     "output_type": "stream",
     "text": [
      "Epoch 0, loss: 0.6827\n",
      "Epoch 10, loss: 0.1461\n",
      "Epoch 20, loss: 0.0142\n",
      "Epoch 30, loss: 0.2270\n",
      "Epoch 40, loss: 0.1327\n",
      "Epoch 50, loss: 0.0082\n",
      "Epoch 60, loss: 0.0108\n",
      "Epoch 70, loss: 0.0473\n",
      "Epoch 80, loss: 0.0807\n",
      "Epoch 90, loss: 0.0480\n"
     ]
    }
   ],
   "source": [
    "import torch.optim.adam\n",
    "\n",
    "\n",
    "model = IrisClassifier()\n",
    "criterion  = nn.CrossEntropyLoss()\n",
    "optimizer = torch.optim.Adam(model.parameters(), lr=0.01)\n",
    "\n",
    "#training loop\n",
    "for epoch in range(100):\n",
    "    for batch_x, batch_y in train_loader:\n",
    "        outputs = model(batch_x)\n",
    "        loss = criterion(outputs, batch_y)\n",
    "\n",
    "        optimizer.zero_grad()\n",
    "        loss.backward()\n",
    "        optimizer.step()\n",
    "\n",
    "    if epoch % 10 == 0:\n",
    "        print(f\"Epoch {epoch}, loss: {loss.item():.4f}\")"
   ]
  },
  {
   "cell_type": "markdown",
   "id": "47f23797",
   "metadata": {},
   "source": [
    "✅ 4. Evaluate Accuracy on Test Set"
   ]
  },
  {
   "cell_type": "code",
   "execution_count": 6,
   "id": "846f442f",
   "metadata": {},
   "outputs": [
    {
     "name": "stdout",
     "output_type": "stream",
     "text": [
      "Test Accuracy: 100.00%\n"
     ]
    }
   ],
   "source": [
    "with torch.no_grad():\n",
    "    model.eval()\n",
    "    outputs = model(X_test_tensor)\n",
    "    _, Predicted = torch.max(outputs, 1)\n",
    "    accuracy = (Predicted == y_test_tensor).sum().item() / len(y_test_tensor)\n",
    "\n",
    "print(f\"Test Accuracy: {accuracy * 100:.2f}%\")"
   ]
  },
  {
   "cell_type": "markdown",
   "id": "37af84ee",
   "metadata": {},
   "source": [
    "🧪 Your Exercise for Day 4\n",
    "\n",
    "1. Add one more hidden layer (16 → 10 → 3).\n",
    "2. Try changing activation to Sigmoid.\n",
    "3. Change optimizer to SGD and observe performance difference."
   ]
  },
  {
   "cell_type": "markdown",
   "id": "2a106fd1",
   "metadata": {},
   "source": [
    "🧠 1. Define the New Model (2 Hidden Layers + Sigmoid)"
   ]
  },
  {
   "cell_type": "code",
   "execution_count": 7,
   "id": "abac320e",
   "metadata": {},
   "outputs": [],
   "source": [
    "class IrisClassifierV2(nn.Module):\n",
    "    def __init__(self):\n",
    "        super(IrisClassifierV2, self).__init__()\n",
    "        self.fc1 = nn.Linear(4, 16)\n",
    "        self.sigmoid1 = nn.Sigmoid()\n",
    "        self.fc2 = nn.Linear(16, 10)\n",
    "        self.sigmoid2 = nn.Sigmoid()\n",
    "        self.fc3 = nn.Linear(10, 3)  # 3 output classes\n",
    "\n",
    "    def forward(self, x):\n",
    "        x = self.fc1(x)\n",
    "        x = self.sigmoid1(x)\n",
    "        x = self.fc2(x)\n",
    "        x = self.sigmoid2(x)\n",
    "        x = self.fc3(x)\n",
    "        return x"
   ]
  },
  {
   "cell_type": "markdown",
   "id": "6d5a0915",
   "metadata": {},
   "source": [
    "⚙️ 2. Train the New Model with SGD Optimizer"
   ]
  },
  {
   "cell_type": "code",
   "execution_count": 14,
   "id": "367d09cd",
   "metadata": {},
   "outputs": [
    {
     "name": "stdout",
     "output_type": "stream",
     "text": [
      "Epoch 0, Loss: 1.0901\n",
      "Epoch 10, Loss: 1.0793\n",
      "Epoch 20, Loss: 1.0477\n",
      "Epoch 30, Loss: 0.8919\n",
      "Epoch 40, Loss: 0.6327\n",
      "Epoch 50, Loss: 0.4919\n",
      "Epoch 60, Loss: 0.6166\n",
      "Epoch 70, Loss: 0.4254\n",
      "Epoch 80, Loss: 0.2894\n",
      "Epoch 90, Loss: 0.2472\n"
     ]
    }
   ],
   "source": [
    "model = IrisClassifierV2()\n",
    "criterion = nn.CrossEntropyLoss()\n",
    "optimizer = torch.optim.SGD(model.parameters(), lr=0.1)\n",
    "\n",
    "# Training loop\n",
    "for epoch in range(100):\n",
    "    for batch_x, batch_y in train_loader:\n",
    "        outputs = model(batch_x)\n",
    "        loss = criterion(outputs, batch_y)\n",
    "\n",
    "        optimizer.zero_grad()\n",
    "        loss.backward()\n",
    "        optimizer.step()\n",
    "\n",
    "    if epoch % 10 == 0:\n",
    "        print(f\"Epoch {epoch}, Loss: {loss.item():.4f}\")\n"
   ]
  },
  {
   "cell_type": "markdown",
   "id": "9e621bba",
   "metadata": {},
   "source": [
    "📊 3. Evaluate Accuracy"
   ]
  },
  {
   "cell_type": "code",
   "execution_count": 15,
   "id": "adf09e39",
   "metadata": {},
   "outputs": [
    {
     "name": "stdout",
     "output_type": "stream",
     "text": [
      "Test Accuracy: 93.33%\n"
     ]
    }
   ],
   "source": [
    "with torch.no_grad():\n",
    "    model.eval()\n",
    "    outputs = model(X_test_tensor)\n",
    "    _, predicted = torch.max(outputs, 1)\n",
    "    accuracy = (predicted == y_test_tensor).sum().item() / len(y_test_tensor)\n",
    "\n",
    "print(f\"Test Accuracy: {accuracy * 100:.2f}%\")\n"
   ]
  }
 ],
 "metadata": {
  "kernelspec": {
   "display_name": "Python 3",
   "language": "python",
   "name": "python3"
  },
  "language_info": {
   "codemirror_mode": {
    "name": "ipython",
    "version": 3
   },
   "file_extension": ".py",
   "mimetype": "text/x-python",
   "name": "python",
   "nbconvert_exporter": "python",
   "pygments_lexer": "ipython3",
   "version": "3.13.1"
  }
 },
 "nbformat": 4,
 "nbformat_minor": 5
}
