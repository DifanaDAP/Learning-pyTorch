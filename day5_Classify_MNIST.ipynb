{
 "cells": [
  {
   "cell_type": "markdown",
   "id": "c1f639fb",
   "metadata": {},
   "source": [
    "🔥 [Day 5] Classify Handwritten Digits (MNIST)\n",
    "\n",
    "🎯 Goals Today:\n",
    "\n",
    "1. Load MNIST dataset\n",
    "2. Build CNN for image classification\n",
    "3. Train & evaluate accuracy"
   ]
  },
  {
   "cell_type": "markdown",
   "id": "2acfb66f",
   "metadata": {},
   "source": [
    "📦 1. Load Dataset: torchvision.datasets.MNIST"
   ]
  },
  {
   "cell_type": "code",
   "execution_count": 3,
   "id": "47de6e96",
   "metadata": {},
   "outputs": [
    {
     "name": "stderr",
     "output_type": "stream",
     "text": [
      "100%|██████████| 9.91M/9.91M [00:07<00:00, 1.26MB/s]\n",
      "100%|██████████| 28.9k/28.9k [00:00<00:00, 123kB/s]\n",
      "100%|██████████| 1.65M/1.65M [00:02<00:00, 613kB/s]\n",
      "100%|██████████| 4.54k/4.54k [00:00<00:00, 6.84MB/s]\n"
     ]
    }
   ],
   "source": [
    "import torch\n",
    "from torchvision import datasets, transforms\n",
    "from torch.utils.data import DataLoader\n",
    "\n",
    "# Transform image to tensors & normalize\n",
    "transform = transforms.Compose([\n",
    "    transforms.ToTensor(),\n",
    "    transforms.Normalize((0.5), (0.5))\n",
    "])\n",
    "\n",
    "# download training and test datasets\n",
    "train_data = datasets.MNIST(root ='./data', train=True, download=True, transform= transform)\n",
    "test_data = datasets.MNIST(root ='./data', train=False, download=True, transform= transform)\n",
    "\n",
    "# Data loader\n",
    "train_loader = DataLoader(train_data, batch_size=62, shuffle=True)\n",
    "test_loader = DataLoader(test_data, batch_size=1000)"
   ]
  },
  {
   "cell_type": "markdown",
   "id": "bb2e0039",
   "metadata": {},
   "source": [
    "🧠 2. Define a Simple CNN Model"
   ]
  },
  {
   "cell_type": "code",
   "execution_count": 7,
   "id": "fe41cfe5",
   "metadata": {},
   "outputs": [],
   "source": [
    "import torch.nn as nn\n",
    "import torch.nn.functional as F\n",
    "\n",
    "class CNNModel(nn.Module):\n",
    "    def __init__(self):\n",
    "        super(CNNModel, self).__init__()\n",
    "        self.Conv1 = nn.Conv2d (1, 16, 3, padding=1) # input 1 channel, output : 16, 3x3 kernel\n",
    "        self.Conv2 = nn.Conv2d(16, 32, 3, padding=1)\n",
    "        self.pool = nn.MaxPool2d(2, 2) # reduce size by e\n",
    "        self.fc1 = nn.Linear(32 * 7 * 7, 128)\n",
    "        self.fc2 = nn.Linear(128, 10) # 10 digit(0-9)\n",
    "\n",
    "    def forward(self, X):\n",
    "        X = self.pool(F.relu(self.Conv1(X))) # 28x28 -> 14x14\n",
    "        X = self.pool(F.relu(self.Conv2(X))) # 14x14 -> 7x7\n",
    "        X = X.view(-1, 32 * 7 * 7)\n",
    "        X = F.relu(self.fc1(X))\n",
    "        X = self.fc2(X)\n",
    "        return X"
   ]
  },
  {
   "cell_type": "markdown",
   "id": "a9248782",
   "metadata": {},
   "source": [
    "🏋️‍♂️ 3. Train the CNN Model"
   ]
  },
  {
   "cell_type": "code",
   "execution_count": 8,
   "id": "d6a1fbc9",
   "metadata": {},
   "outputs": [
    {
     "name": "stdout",
     "output_type": "stream",
     "text": [
      "Epoch 1, Loss: 0.2069\n",
      "Epoch 2, Loss: 0.0550\n",
      "Epoch 3, Loss: 0.0385\n",
      "Epoch 4, Loss: 0.0285\n",
      "Epoch 5, Loss: 0.0216\n"
     ]
    }
   ],
   "source": [
    "model = CNNModel()\n",
    "criterion = nn.CrossEntropyLoss()\n",
    "optimizer = torch.optim.Adam(model.parameters(), lr=0.001)\n",
    "\n",
    "# Training loop\n",
    "for epoch in range(5):  # 5 epochs for now\n",
    "    running_loss = 0.0\n",
    "    for images, labels in train_loader:\n",
    "        outputs = model(images)\n",
    "        loss = criterion(outputs, labels)\n",
    "\n",
    "        optimizer.zero_grad()\n",
    "        loss.backward()\n",
    "        optimizer.step()\n",
    "        running_loss += loss.item()\n",
    "\n",
    "    print(f\"Epoch {epoch+1}, Loss: {running_loss/len(train_loader):.4f}\")\n"
   ]
  },
  {
   "cell_type": "markdown",
   "id": "192ea291",
   "metadata": {},
   "source": [
    "✅ 4. Evaluate on Test Data"
   ]
  },
  {
   "cell_type": "code",
   "execution_count": 9,
   "id": "be76e860",
   "metadata": {},
   "outputs": [
    {
     "name": "stdout",
     "output_type": "stream",
     "text": [
      "Test Accuraty : 99.14%\n"
     ]
    }
   ],
   "source": [
    "correct = 0\n",
    "total = 0\n",
    "model.eval()\n",
    "with torch.no_grad():\n",
    "    for images, labels in test_loader:\n",
    "        outputs = model(images)\n",
    "        _, predicted = torch.max(outputs, 1)\n",
    "        total += labels.size(0)\n",
    "        correct += (predicted == labels).sum().item()\n",
    "\n",
    "print(f\"Test Accuraty : {100 * correct / total:.2f}%\")"
   ]
  },
  {
   "cell_type": "markdown",
   "id": "191f21ff",
   "metadata": {},
   "source": [
    "📸 Optional: Visualize Predictions"
   ]
  },
  {
   "cell_type": "code",
   "execution_count": 13,
   "id": "a9d720a1",
   "metadata": {},
   "outputs": [
    {
     "data": {
      "image/png": "[encoded data removed]",
      "text/plain": [
       "<Figure size 640x480 with 6 Axes>"
      ]
     },
     "metadata": {},
     "output_type": "display_data"
    }
   ],
   "source": [
    "import matplotlib.pyplot as plt\n",
    "\n",
    "examples = enumerate(test_loader)\n",
    "batch_idx, (example_data, example_targets) = next(examples)\n",
    "\n",
    "with torch.no_grad():\n",
    "    output = model(example_data)\n",
    "pred = torch.argmax(output, dim=1)\n",
    "\n",
    "# show 6 predictions\n",
    "for i in range(6):\n",
    "    plt.subplot(2, 3, i+1)\n",
    "    plt.imshow(example_data[i][0], cmap='gray')\n",
    "    plt.title(f\"Pred: {pred[i].item()}\")\n",
    "    plt.axis('off')\n",
    "plt.tight_layout()\n",
    "plt.show()"
   ]
  },
  {
   "cell_type": "markdown",
   "id": "9a6c0a93",
   "metadata": {},
   "source": [
    "📝 Exercise Day 5\n",
    "\n",
    "1. Add 1 more conv layer (so 3).\n",
    "2. Change the hidden layer size fc1 to 256.\n",
    "3. Change the optimizer to SGD."
   ]
  },
  {
   "cell_type": "markdown",
   "id": "a418bbeb",
   "metadata": {},
   "source": [
    "🧠 1. CNN Model with 3 Conv Layers & 256 Hidden Units"
   ]
  },
  {
   "cell_type": "code",
   "execution_count": 14,
   "id": "9abffddb",
   "metadata": {},
   "outputs": [],
   "source": [
    "class CNNModelV2(nn.Module):\n",
    "    def __init__(self):\n",
    "        super(CNNModelV2, self).__init__()\n",
    "        self.conv1 = nn.Conv2d(1, 16, 3, padding=1)   # 28x28\n",
    "        self.conv2 = nn.Conv2d(16, 32, 3, padding=1)  # 14x14\n",
    "        self.conv3 = nn.Conv2d(32, 64, 3, padding=1)  # 7x7\n",
    "        self.pool = nn.MaxPool2d(2, 2)\n",
    "\n",
    "        self.fc1 = nn.Linear(64 * 3 * 3, 256)  # after 3 poolings → 3x3\n",
    "        self.fc2 = nn.Linear(256, 10)\n",
    "\n",
    "    def forward(self, x):\n",
    "        x = self.pool(F.relu(self.conv1(x)))  # 28 → 14\n",
    "        x = self.pool(F.relu(self.conv2(x)))  # 14 → 7\n",
    "        x = self.pool(F.relu(self.conv3(x)))  # 7 → 3\n",
    "        x = x.view(-1, 64 * 3 * 3)\n",
    "        x = F.relu(self.fc1(x))\n",
    "        x = self.fc2(x)\n",
    "        return x"
   ]
  },
  {
   "cell_type": "markdown",
   "id": "6536fc6f",
   "metadata": {},
   "source": [
    "⚙️ 2. Train with SGD Optimizer"
   ]
  },
  {
   "cell_type": "code",
   "execution_count": 15,
   "id": "cb3a1727",
   "metadata": {},
   "outputs": [
    {
     "name": "stdout",
     "output_type": "stream",
     "text": [
      "Epoch 1, Loss: 0.4212\n",
      "Epoch 2, Loss: 0.2198\n",
      "Epoch 3, Loss: 0.3500\n",
      "Epoch 4, Loss: 2.0734\n",
      "Epoch 5, Loss: 2.3050\n"
     ]
    }
   ],
   "source": [
    "model = CNNModelV2()\n",
    "criterion = nn.CrossEntropyLoss()\n",
    "optimizer = torch.optim.SGD(model.parameters(), lr=0.1, momentum=0.9)\n",
    "\n",
    "# Training loop\n",
    "for epoch in range(5):\n",
    "    running_loss = 0.0\n",
    "    model.train()\n",
    "    for images, labels in train_loader:\n",
    "        outputs = model(images)\n",
    "        loss = criterion(outputs, labels)\n",
    "\n",
    "        optimizer.zero_grad()\n",
    "        loss.backward()\n",
    "        optimizer.step()\n",
    "\n",
    "        running_loss += loss.item()\n",
    "\n",
    "    print(f\"Epoch {epoch+1}, Loss: {running_loss / len(train_loader):.4f}\")\n"
   ]
  },
  {
   "cell_type": "markdown",
   "id": "bdd4c152",
   "metadata": {},
   "source": [
    "✅ 3. Evaluate Accuracy"
   ]
  },
  {
   "cell_type": "code",
   "execution_count": null,
   "id": "a88a1522",
   "metadata": {},
   "outputs": [],
   "source": [
    "model.eval()\n",
    "correct = 0\n",
    "total = 0\n",
    "with torch.no_grad():\n",
    "    for images, labels in test_loader:\n",
    "        outputs = model(images)\n",
    "        _, predicted = torch.max(outputs, 1)\n",
    "        total += labels.size(0)\n",
    "        correct += (predicted == labels).sum().item()\n",
    "\n",
    "print(f\"Test Accuracy: {100 * correct / total:.2f}%\")\n"
   ]
  }
 ],
 "metadata": {
  "kernelspec": {
   "display_name": "Python 3",
   "language": "python",
   "name": "python3"
  },
  "language_info": {
   "codemirror_mode": {
    "name": "ipython",
    "version": 3
   },
   "file_extension": ".py",
   "mimetype": "text/x-python",
   "name": "python",
   "nbconvert_exporter": "python",
   "pygments_lexer": "ipython3",
   "version": "3.13.1"
  }
 },
 "nbformat": 4,
 "nbformat_minor": 5
}
